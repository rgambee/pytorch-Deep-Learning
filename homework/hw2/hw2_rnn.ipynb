{
 "cells": [
  {
   "cell_type": "markdown",
   "metadata": {
    "id": "PtcBjMq7YV3f"
   },
   "source": [
    "# Homework 2 - Recurrent Neural Networks"
   ]
  },
  {
   "cell_type": "markdown",
   "metadata": {
    "id": "Rn-cOk1iZTtR"
   },
   "source": [
    "In this part of the homework we are going to work with Recurrent Neural Networks, in particular GRU. One of the greatest things that Recurrent Neural Networks can do when working with sequences is retaining data from several timesteps in the past. We are going to explore that property by constructing an 'echo' Recurrent Neural Network.\n",
    "\n",
    "The goal here is to make a model that given a sequence of letters or digits will output that same sequence, but with a certain delay. Let's say the input is a string 'abacaba', we want the model to not output anything for 3 steps (delay length), and then output the original string step by step, except the last 3 characters. So, target output is then 'XXXabac', where 'X' is empty output.\n",
    "\n",
    "This is similar to [this notebook](https://github.com/Atcold/pytorch-Deep-Learning/blob/master/09-echo_data.ipynb) (which you should refer to when doing this assignment), except we're working not with a binary string, but with a sequence of integers between 0 and some N. In our case N is 26, which is the number of letters in the alphabet."
   ]
  },
  {
   "cell_type": "markdown",
   "metadata": {
    "id": "npLlE973as6x"
   },
   "source": [
    "## Dataset\n",
    "\n",
    "Let's implement the dataset. In our case, the data is basically infinite, as we can always generate more examples on the fly, so don't need to load anything from disk."
   ]
  },
  {
   "cell_type": "code",
   "execution_count": null,
   "metadata": {
    "id": "mkEEMyvzIMRx"
   },
   "outputs": [],
   "source": [
    "import random\n",
    "import string\n",
    "\n",
    "import torch\n",
    "\n",
    "# Max value of the generated integer. 26 is chosen becuase it's\n",
    "# the number of letters in English alphabet.\n",
    "N = 26\n",
    "\n",
    "\n",
    "def idx_to_onehot(x, k=N+1):\n",
    "    \"\"\" Converts the generated integers to one-hot vectors \"\"\"\n",
    "    ones = torch.sparse.torch.eye(k)\n",
    "    shape = x.shape\n",
    "    res = ones.index_select(0, x.view(-1).type(torch.int64))\n",
    "    return res.view(*shape, res.shape[-1])\n",
    "\n",
    "\n",
    "class EchoDataset(torch.utils.data.IterableDataset):\n",
    "\n",
    "    def __init__(self, delay=4, seq_length=15, size=1000):\n",
    "        self.delay = delay\n",
    "        self.seq_length = seq_length\n",
    "        self.size = size\n",
    "  \n",
    "    def __len__(self):\n",
    "        return self.size\n",
    "\n",
    "    def __iter__(self):\n",
    "        \"\"\" Iterable dataset doesn't have to implement __getitem__.\n",
    "            Instead, we only need to implement __iter__ to return\n",
    "            an iterator (or generator).\n",
    "        \"\"\"\n",
    "        for _ in range(self.size):\n",
    "            seq = torch.tensor([random.choice(range(1, N + 1)) for i in range(self.seq_length)], dtype=torch.int64)\n",
    "            result = torch.cat((torch.zeros(self.delay), seq[:self.seq_length - self.delay])).type(torch.int64)\n",
    "            yield seq, result\n",
    "\n",
    "DELAY = 4\n",
    "DATASET_SIZE = 200000\n",
    "ds = EchoDataset(delay=DELAY, size=DATASET_SIZE)"
   ]
  },
  {
   "cell_type": "markdown",
   "metadata": {
    "id": "nNrZqYURcKSl"
   },
   "source": [
    "## Model\n",
    "\n",
    "Now, we want to implement the model. For our purposes, we want to use GRU. The architecture consists of GRU and a decoder. Decoder is responsible for decoding the GRU hidden state to yield a predicting for the next output. The parts you are responsible for filling with your code are marked with `TODO`. "
   ]
  },
  {
   "cell_type": "code",
   "execution_count": null,
   "metadata": {
    "id": "nigN_o4Mb9Nx"
   },
   "outputs": [],
   "source": [
    "class GRUMemory(torch.nn.Module):\n",
    "\n",
    "    def __init__(self, hidden_size):\n",
    "        super().__init__()\n",
    "        self.gru = torch.nn.GRU(\n",
    "            input_size=N + 1,\n",
    "            hidden_size=50,\n",
    "            num_layers=1,\n",
    "            bias=True,\n",
    "        )\n",
    "        self.decoder = torch.nn.Linear(\n",
    "            hidden_size, N + 1,\n",
    "        )\n",
    "\n",
    "    def forward(self, x):\n",
    "        # inputs: x - input tensor of shape (seq_length, N+1)\n",
    "        # returns:\n",
    "        # logits (scores for softmax) of shape (seq_length, N + 1)\n",
    "        z0, _ = self.gru(x)#.to(torch.float32))\n",
    "        z1 = self.decoder(z0)\n",
    "        return z1\n",
    "\n",
    "    @torch.no_grad()\n",
    "    def test_run(self, s):\n",
    "        # This function accepts one string s containing lowercase characters a-z. \n",
    "        # You need to map those characters to one-hot encodings, \n",
    "        # then get the result from your network, and then convert the output \n",
    "        # back to a string of the same length, with 0 mapped to ' ', \n",
    "        # and 1-26 mapped to a-z.\n",
    "        input_one_hot = letters_to_one_hot(s)\n",
    "        output_one_hot = self.forward(input_one_hot)\n",
    "        return one_hot_to_letters(output_one_hot)\n"
   ]
  },
  {
   "cell_type": "code",
   "execution_count": null,
   "metadata": {},
   "outputs": [],
   "source": [
    "def letter_to_num(letter: str) -> int:\n",
    "    try:\n",
    "        return max(ord(letter) - 96, 0)\n",
    "    except Exception:\n",
    "        print(type(letter))\n",
    "        print(letter)\n",
    "        raise\n",
    "\n",
    "\n",
    "def num_to_letter(number: int) -> str:\n",
    "    letter = chr(number + 96)\n",
    "    if letter < \"a\":\n",
    "        letter = \" \"\n",
    "    return letter\n",
    "\n",
    "\n",
    "def numbers_to_one_hot(numbers):\n",
    "    numbers = torch.as_tensor(numbers)\n",
    "    if numbers.ndim == 1:\n",
    "        # (seq_length) -> (seq_length, N + 1)\n",
    "        one_hot = torch.zeros((len(numbers), N + 1), dtype=torch.float32)\n",
    "        one_hot[torch.arange(len(numbers)), numbers] = 1\n",
    "    elif numbers.ndim == 2:\n",
    "        # (batch, seq_length) -> (batch, seq_length, N + 1)\n",
    "        one_hot = torch.zeros(*numbers.size() + (N + 1,), dtype=torch.float32)\n",
    "        i, j = torch.meshgrid(\n",
    "            torch.arange(numbers.size(0)),\n",
    "            torch.arange(numbers.size(1)),\n",
    "            indexing=\"ij\",\n",
    "        )\n",
    "        one_hot[i, j, numbers] = 1\n",
    "    else:\n",
    "        raise ValueError(f\"Unexpected number of dimensions: {numbers.ndim}\")\n",
    "    return one_hot\n",
    "\n",
    "\n",
    "def one_hot_to_numbers(one_hot):\n",
    "    return one_hot.argmax(dim=-1)\n",
    "\n",
    "\n",
    "def letters_to_one_hot(batch):\n",
    "    if isinstance(batch, str):\n",
    "        # batch = [batch]\n",
    "        letters = batch\n",
    "        numbers = [letter_to_num(let) for let in letters]\n",
    "    else:\n",
    "        numbers = [[letter_to_num(let) for let in letters] for letters in batch]\n",
    "    return numbers_to_one_hot(numbers)\n",
    "\n",
    "\n",
    "def one_hot_to_letters(one_hot):\n",
    "    numbers = one_hot_to_numbers(one_hot)\n",
    "    if numbers.ndim == 1:\n",
    "        # (seq_length, N + 1) -> (seq_length)\n",
    "        return \"\".join(num_to_letter(n) for n in numbers.ravel())\n",
    "    elif numbers.ndim == 2:\n",
    "        # (batch, seq_length, N + 1) -> (batch, seq_length)\n",
    "        return [\n",
    "            \"\".join(num_to_letter(n) for n in seq.ravel()) for seq in numbers\n",
    "        ]\n",
    "    else:\n",
    "        raise ValueError(f\"Unexpected number of dimensions: {one_hot.ndim}\")\n"
   ]
  },
  {
   "cell_type": "markdown",
   "metadata": {
    "id": "A9whwmVu9OIx"
   },
   "source": [
    "## Training\n",
    "Below you need to implement the training of the model. We give you more freedom as for the implementation. The two limitations are that it has to execute within 10 minutes, and that error rate should be below 1%."
   ]
  },
  {
   "cell_type": "code",
   "execution_count": null,
   "metadata": {
    "id": "lUZkeRnVTNzG"
   },
   "outputs": [],
   "source": [
    "def test_model(model, sequence_length=15):\n",
    "    \"\"\"\n",
    "    This is the test function that runs 100 different strings through your model,\n",
    "    and checks the error rate.\n",
    "    \"\"\"\n",
    "    total = 0\n",
    "    correct = 0\n",
    "    D = DELAY\n",
    "    for i in range(500):\n",
    "        s = ''.join([random.choice(string.ascii_lowercase) for i in range(random.randint(15, 25))])\n",
    "        result = model.test_run(s)\n",
    "        assert D > 0, 's[:-D] won\\'t work for D=0'\n",
    "        for c1, c2 in zip(s[:-D], result[D:]):\n",
    "            correct += int(c1 == c2)\n",
    "        total += len(s) - D\n",
    "\n",
    "    return correct / total"
   ]
  },
  {
   "cell_type": "code",
   "execution_count": null,
   "metadata": {
    "id": "9lV9BscxCCAI"
   },
   "outputs": [],
   "source": [
    "import time\n",
    "import matplotlib.pyplot as plt\n",
    "\n",
    "start_time = time.time()\n",
    "\n",
    "model = GRUMemory(hidden_size=50)\n",
    "optimizer = torch.optim.RMSprop(model.parameters(), lr=3e-4)\n",
    "criterion = torch.nn.CrossEntropyLoss()\n",
    "losses = []\n",
    "accuracies = []\n",
    "\n",
    "for i, (sequence, result) in enumerate(ds):\n",
    "    optimizer.zero_grad()\n",
    "    one_hot_input = numbers_to_one_hot(sequence).to(dtype=torch.float32)\n",
    "    one_hot_result = numbers_to_one_hot(result).to(dtype=torch.float32)\n",
    "    prediction = model(one_hot_input)\n",
    "    loss = criterion(prediction, one_hot_result)\n",
    "    loss.backward()\n",
    "    optimizer.step()\n",
    "    if i % 100 == 0:\n",
    "        losses.append(loss.item())\n",
    "        accuracy = test_model(model)\n",
    "        accuracies.append(accuracy)\n",
    "        print(f\"Iteration {i}, accuracy {accuracy:.3%}\", end=\"\\r\")\n",
    "    if len(accuracies) >= 5 and min(accuracies[-5:]) >= 0.99:\n",
    "        print(f\"Model has converged after {i} iterations\")\n",
    "        break\n",
    "\n",
    "\n",
    "end_time = time.time()\n",
    "\n",
    "fig, axes = plt.subplots(nrows=2, ncols=1, sharex=True)\n",
    "axes[0].plot(losses)\n",
    "axes[0].set_ylabel('Training Loss')\n",
    "axes[1].plot(accuracies)\n",
    "axes[1].set_ylabel('Validation Accuracy')\n",
    "axes[1].set_xlabel('Iteration / 100')\n",
    "\n",
    "duration = end_time - start_time\n",
    "accuracy = test_model(model)\n",
    "print(f\"Duration: {duration / 60:.1f} minutes\")\n",
    "print(f\"Accuracy: {accuracy:.3%}\")\n",
    "assert duration < 600, 'execution took f{duration:.2f} seconds, which longer than 10 mins'\n",
    "assert accuracy > 0.99, f'accuracy is too low, got {accuracy}, need 0.99'\n",
    "print('tests passed')"
   ]
  },
  {
   "cell_type": "markdown",
   "metadata": {
    "id": "sB0EVNBtDhpN"
   },
   "source": [
    "## Variable delay model\n",
    "\n",
    "Now, to make this more complicated, we want to have varialbe delay. So, now, the goal is to transform a sequence of pairs (character, delay) into a character sequence with given delay. Delay stays constant within one sequence."
   ]
  },
  {
   "cell_type": "markdown",
   "metadata": {
    "id": "3i_iwX_AEOCH"
   },
   "source": [
    "### Dataset\n",
    "As before, we first implement the dataset:"
   ]
  },
  {
   "cell_type": "code",
   "execution_count": null,
   "metadata": {
    "id": "E4G5b8kuEUEd"
   },
   "outputs": [],
   "source": [
    "import math\n",
    "\n",
    "class VariableDelayEchoDataset(torch.utils.data.IterableDataset):\n",
    "\n",
    "    def __init__(self, max_delay=8, seq_length=20, size=1000):\n",
    "        self.max_delay = max_delay\n",
    "        self.seq_length = seq_length\n",
    "        self.size = size\n",
    "  \n",
    "    def __len__(self):\n",
    "        return self.size\n",
    "\n",
    "    def __iter__(self):\n",
    "        worker_info = torch.utils.data.get_worker_info()\n",
    "        if worker_info is None:\n",
    "            num_workers = 1\n",
    "        else:\n",
    "            num_workers = worker_info.num_workers\n",
    "        for _ in range(math.ceil(self.size / num_workers)):\n",
    "            seq = torch.tensor(\n",
    "                [random.choice(range(1, N + 1))\n",
    "                 for i in range(self.seq_length)],\n",
    "                dtype=torch.int64\n",
    "            )\n",
    "            delay = random.randint(0, self.max_delay)\n",
    "            result = torch.cat(\n",
    "                (torch.zeros(delay), seq[:self.seq_length - delay])\n",
    "            ).type(torch.int64)\n",
    "            yield seq, delay, result"
   ]
  },
  {
   "cell_type": "markdown",
   "metadata": {
    "id": "oTRVOND3HEJZ"
   },
   "source": [
    "### Model\n",
    "\n",
    "And the model."
   ]
  },
  {
   "cell_type": "code",
   "execution_count": null,
   "metadata": {
    "id": "IYolFIB8Hg0U"
   },
   "outputs": [],
   "source": [
    "class VariableDelayGRUMemory(torch.nn.Module):\n",
    "\n",
    "    def __init__(self, max_delay, hidden_size=None, num_layers=1):\n",
    "        super().__init__()\n",
    "        self.max_delay = max_delay\n",
    "        self.io_size = N + 1\n",
    "        if hidden_size is None:\n",
    "            hidden_size = 2 * self.io_size\n",
    "        self.gru = torch.nn.GRU(\n",
    "            input_size=self.io_size + self.max_delay + 1,\n",
    "            hidden_size=hidden_size,\n",
    "            num_layers=num_layers,\n",
    "            bias=True,\n",
    "            batch_first=True,\n",
    "        )\n",
    "        self.decoder = torch.nn.Linear(\n",
    "            hidden_size, self.io_size,\n",
    "        )\n",
    "\n",
    "    def forward(self, x, delay, verbose=False):\n",
    "        # inputs:\n",
    "        # x - tensor of shape (batch_size, seq length, N + 1)\n",
    "        # delay - sequence[int]\n",
    "        # returns:\n",
    "        # logits (scores for softmax) of shape (batch_size, seq_length, N + 1)\n",
    "        \n",
    "        # The only way I can think of for feeding the desired delay\n",
    "        # into the network is by concatenating it with the input.\n",
    "        # The most sensible way to do that seems to be to duplicate\n",
    "        # the delay along the length of the sequence and concatenate\n",
    "        # it such that it appears as another feature. One-hot encoding\n",
    "        # seems to work better than simply concatenating the delay\n",
    "        # directly.\n",
    "        delays = torch.zeros(\n",
    "            x.size()[:-1] + (self.max_delay + 1,),\n",
    "            dtype=x.dtype,\n",
    "        )\n",
    "        if x.ndim == 2:\n",
    "            delays[:, delay] = 1\n",
    "        elif x.ndim == 3:\n",
    "            delays[torch.arange(x.size(0)), :, delay] = 1\n",
    "        else:\n",
    "            raise ValueError(f\"Unexpected number of dimensions: {x.ndim}\")\n",
    "        x = torch.cat((x, delays), dim=-1)\n",
    "        if verbose:\n",
    "            print(delays)\n",
    "            print(x)\n",
    "            print()\n",
    "        z0, _ = self.gru(x)\n",
    "        z1 = self.decoder(z0)\n",
    "        return z1\n",
    "\n",
    "    def test_run(self, s, delay, verbose=False):\n",
    "        # This function accepts one string s containing lowercase characters a-z, \n",
    "        # and a delay - the desired output delay.\n",
    "        # You need to map those characters to one-hot encodings, \n",
    "        # then get the result from your network, and then convert the output \n",
    "        # back to a string of the same length, with 0 mapped to ' ', \n",
    "        # and 1-26 mapped to a-z.\n",
    "        input_numbers = [letter_to_num(char) for char in s]\n",
    "        output_numbers = self.test_run_numbers(input_numbers, delay, verbose)\n",
    "        return \"\".join(num_to_letter(num) for num in output_numbers.ravel())\n",
    "\n",
    "    @torch.no_grad()\n",
    "    def test_run_numbers(self, numbers, delay, verbose=False):\n",
    "        input_one_hot = numbers_to_one_hot(numbers)\n",
    "        output_one_hot = self.forward(input_one_hot, delay, verbose)\n",
    "        return one_hot_to_numbers(output_one_hot)\n",
    "    "
   ]
  },
  {
   "cell_type": "markdown",
   "metadata": {
    "id": "riu3qHWgKjsx"
   },
   "source": [
    "### Train\n",
    "\n",
    "As before, you're free to do what you want, as long as training finishes within 10 minutes and accuracy is above 0.99 for delays between 0 and 8."
   ]
  },
  {
   "cell_type": "code",
   "execution_count": null,
   "metadata": {
    "id": "4FZHojnGO3aw"
   },
   "outputs": [],
   "source": [
    "def test_variable_delay_model(\n",
    "    model, max_delay, seq_length=20, size=500, batch_size=64, num_workers=4,\n",
    "):\n",
    "    \"\"\"\n",
    "    This is the test function that runs different strings through your model,\n",
    "    and checks the error rate.\n",
    "    \"\"\"\n",
    "    total = 0\n",
    "    correct = 0\n",
    "    dataset = VariableDelayEchoDataset(\n",
    "        max_delay=model.max_delay, seq_length=seq_length, size=size\n",
    "    )\n",
    "    dataloader = torch.utils.data.DataLoader(\n",
    "        dataset, batch_size=batch_size, shuffle=False, num_workers=num_workers,\n",
    "    )\n",
    "    for sequence, delay, target in dataloader:\n",
    "        result = model.test_run_numbers(sequence, delay)\n",
    "        assert result.size() == target.size()\n",
    "        correct += (result == target).sum()\n",
    "        total += target.numel()\n",
    "        # if delay > 0:\n",
    "        #     z = zip(sequence[:-delay], result[delay:])\n",
    "        # else:\n",
    "        #     z = zip(sequence, result)\n",
    "        # for c1, c2 in z:\n",
    "        #     correct += int(c1 == c2)\n",
    "        # total += len(sequence) - delay\n",
    "\n",
    "    return correct / total"
   ]
  },
  {
   "cell_type": "code",
   "execution_count": null,
   "metadata": {
    "id": "YJ18Ef6vKi4s"
   },
   "outputs": [],
   "source": [
    "import time\n",
    "start_time = time.time()\n",
    "\n",
    "MAX_DELAY = 8\n",
    "SEQ_LENGTH = 20\n",
    "SIZE = 500_000\n",
    "TEST_SIZE = 100\n",
    "BATCH_SIZE = 64\n",
    "NUM_WORKERS = 4\n",
    "\n",
    "model = VariableDelayGRUMemory(\n",
    "    max_delay=MAX_DELAY, hidden_size=500, num_layers=2\n",
    ")\n",
    "optimizer = torch.optim.RMSprop(model.parameters(), lr=3e-3)\n",
    "criterion = torch.nn.CrossEntropyLoss()\n",
    "training_dataset = VariableDelayEchoDataset(\n",
    "    max_delay=MAX_DELAY, seq_length=SEQ_LENGTH, size=SIZE\n",
    ")\n",
    "dataloader = torch.utils.data.DataLoader(\n",
    "    training_dataset, batch_size=BATCH_SIZE, shuffle=False, num_workers=NUM_WORKERS,\n",
    ")\n",
    "losses = []\n",
    "accuracies = []\n",
    "\n",
    "for i, (sequence, delay, result) in enumerate(dataloader):\n",
    "    optimizer.zero_grad()\n",
    "    one_hot_input = numbers_to_one_hot(sequence)\n",
    "    one_hot_result = numbers_to_one_hot(result)\n",
    "    prediction = model(one_hot_input, delay)\n",
    "    loss = criterion(prediction, one_hot_result)\n",
    "    loss.backward()\n",
    "    optimizer.step()\n",
    "    if i % 100 == 0:\n",
    "        losses.append(loss.item())\n",
    "        accuracy = test_variable_delay_model(\n",
    "            model, max_delay=MAX_DELAY, seq_length=SEQ_LENGTH, size=TEST_SIZE,\n",
    "        )\n",
    "        accuracies.append(accuracy)\n",
    "        print(f\"Batch iteration {i}, accuracy {accuracy:.3%}\", end=\"\\r\")\n",
    "    if len(accuracies) >= 5 and min(accuracies[-5:]) >= 0.99:\n",
    "        print(f\"Model has converged after {i} iterations\")\n",
    "        break\n",
    "else:\n",
    "    print()\n",
    "    print(\"Dataset exhausted\")\n",
    "    \n",
    "\n",
    "end_time = time.time()\n",
    "duration = end_time - start_time\n",
    "\n",
    "fig, axes = plt.subplots(nrows=2, ncols=1, sharex=True)\n",
    "axes[0].plot(losses)\n",
    "axes[0].set_ylabel('Training Loss')\n",
    "axes[1].plot(accuracies)\n",
    "axes[1].set_ylabel('Validation Accuracy')\n",
    "axes[1].set_xlabel('Batch Iteration')\n",
    "\n",
    "print(f\"Duration: {duration / 60:.1f} minutes\")\n",
    "print(f\"Accuracy: {accuracy:.3%}\")\n",
    "assert end_time - start_time < 600, 'executing took longer than 10 mins'\n",
    "assert test_variable_delay_model(\n",
    "    model, max_delay=MAX_DELAY, seq_length=SEQ_LENGTH, size=TEST_SIZE,\n",
    ") > 0.99, 'accuracy is too low'\n",
    "print('tests passed')"
   ]
  },
  {
   "cell_type": "code",
   "execution_count": null,
   "metadata": {},
   "outputs": [],
   "source": [
    "model.test_run('abcdefghijk', 8)"
   ]
  },
  {
   "cell_type": "code",
   "execution_count": null,
   "metadata": {},
   "outputs": [],
   "source": []
  }
 ],
 "metadata": {
  "colab": {
   "collapsed_sections": [
    "JUbvDw31eJvY"
   ],
   "name": "hw2_rnn",
   "provenance": []
  },
  "kernelspec": {
   "display_name": "Python 3 (ipykernel)",
   "language": "python",
   "name": "python3"
  },
  "language_info": {
   "codemirror_mode": {
    "name": "ipython",
    "version": 3
   },
   "file_extension": ".py",
   "mimetype": "text/x-python",
   "name": "python",
   "nbconvert_exporter": "python",
   "pygments_lexer": "ipython3",
   "version": "3.10.6"
  }
 },
 "nbformat": 4,
 "nbformat_minor": 4
}
